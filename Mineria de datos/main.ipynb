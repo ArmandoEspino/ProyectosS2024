{
 "cells": [
  {
   "cell_type": "code",
   "execution_count": null,
   "metadata": {},
   "outputs": [],
   "source": [
    "%pip install pandas\n",
    "%pip install numpy"
   ]
  },
  {
   "cell_type": "code",
   "execution_count": 1,
   "metadata": {},
   "outputs": [],
   "source": [
    "# Importamos las librerias a utilizar\n",
    "import pandas as pd\n",
    "import numpy as np"
   ]
  },
  {
   "cell_type": "code",
   "execution_count": null,
   "metadata": {},
   "outputs": [],
   "source": [
    "# Llamamos al archivo en formato CSV\n",
    "df = pd.read_csv('Restaurant reviews.csv')\n",
    "\n",
    "#print(df.head())  # Muestra las primeras filas del DataFrame\n",
    "#print(df.info())  # Muestra información sobre las columnas y los tipos de datos\n",
    "#print(df.describe())  # Proporciona estadísticas descriptivas para columnas numéricas\n",
    "\n",
    "\n",
    "print(df.isnull().sum())  # Muestra la cantidad de valores nulos en cada columna\n",
    "\n",
    "# Eliminar filas con valores nulos\n",
    "df_clean = df.dropna()"
   ]
  },
  {
   "cell_type": "code",
   "execution_count": null,
   "metadata": {},
   "outputs": [],
   "source": [
    "import pandas as pd\n",
    "\n",
    "# Carga el archivo CSV en un DataFrame\n",
    "df = pd.read_csv('Restaurant reviews.csv')\n",
    "\n",
    "# Muestra el DataFrame original\n",
    "print(\"DataFrame original:\")\n",
    "print(df)\n",
    "\n",
    "# Elimina la columna '7514'\n",
    "df_sin_columna = df.drop('7514', axis=1)\n",
    "\n",
    "# Muestra el DataFrame sin la columna eliminada\n",
    "print(\"\\nDataFrame sin la columna eliminada:\")\n",
    "print(df_sin_columna)\n",
    "\n",
    "# Guarda el DataFrame resultante en un nuevo archivo CSV\n",
    "df_sin_columna.to_csv('nuevo_nombre_archivo.csv', index=False)\n"
   ]
  },
  {
   "cell_type": "code",
   "execution_count": null,
   "metadata": {},
   "outputs": [],
   "source": [
    "import pandas as pd\n",
    "\n",
    "# Cargar el dataset\n",
    "df = pd.read_csv('Restaurant reviews.csv')\n",
    "\n",
    "# Identificar la cantidad de valores nulos en cada columna\n",
    "print(df.isnull().sum())\n",
    "\n",
    "# Eliminar las filas con valores nulos en cualquier columna\n",
    "df_sin_nulos = df.dropna()\n",
    "\n",
    "# Verificar si los valores nulos se eliminaron correctamente\n",
    "print(df_sin_nulos.isnull().sum())\n"
   ]
  }
 ],
 "metadata": {
  "kernelspec": {
   "display_name": "Python 3",
   "language": "python",
   "name": "python3"
  },
  "language_info": {
   "codemirror_mode": {
    "name": "ipython",
    "version": 3
   },
   "file_extension": ".py",
   "mimetype": "text/x-python",
   "name": "python",
   "nbconvert_exporter": "python",
   "pygments_lexer": "ipython3",
   "version": "3.11.1"
  }
 },
 "nbformat": 4,
 "nbformat_minor": 2
}
