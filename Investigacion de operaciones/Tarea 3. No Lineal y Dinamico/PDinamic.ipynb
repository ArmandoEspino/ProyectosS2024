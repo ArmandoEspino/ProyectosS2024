{
 "cells": [
  {
   "cell_type": "code",
   "execution_count": 2,
   "metadata": {},
   "outputs": [
    {
     "name": "stdout",
     "output_type": "stream",
     "text": [
      "El valor máximo que se puede obtener es: 55\n"
     ]
    }
   ],
   "source": [
    "def mochila(capacidad, pesos, valores, n):\n",
    "    # Crear una matriz de tamaño (n+1) x (capacidad+1)\n",
    "    matriz = [[0] * (capacidad + 1) for _ in range(n + 1)]\n",
    "    \n",
    "    # Calcular la solución óptima para cada subproblema\n",
    "    for i in range(1, n + 1):\n",
    "        for w in range(1, capacidad + 1):\n",
    "            if pesos[i - 1] <= w:\n",
    "                matriz[i][w] = max(valores[i - 1] + matriz[i - 1][w - pesos[i - 1]], matriz[i - 1][w])\n",
    "            else:\n",
    "                matriz[i][w] = matriz[i - 1][w]\n",
    "    \n",
    "    # Devolver el valor máximo que se puede obtener\n",
    "    return matriz[n][capacidad]\n",
    "\n",
    "# Ejemplo de objetos: peso y valor\n",
    "pesos = [2, 3, 5]\n",
    "valores = [10, 15, 30]\n",
    "capacidad_mochila = 14\n",
    "\n",
    "\n",
    "# Calcular la solución\n",
    "max_valor = mochila(capacidad_mochila, pesos, valores, len(pesos))\n",
    "\n",
    "print(\"El valor máximo que se puede obtener es:\", max_valor)\n",
    "\n"
   ]
  }
 ],
 "metadata": {
  "kernelspec": {
   "display_name": "Python 3",
   "language": "python",
   "name": "python3"
  },
  "language_info": {
   "codemirror_mode": {
    "name": "ipython",
    "version": 3
   },
   "file_extension": ".py",
   "mimetype": "text/x-python",
   "name": "python",
   "nbconvert_exporter": "python",
   "pygments_lexer": "ipython3",
   "version": "3.11.1"
  }
 },
 "nbformat": 4,
 "nbformat_minor": 2
}
