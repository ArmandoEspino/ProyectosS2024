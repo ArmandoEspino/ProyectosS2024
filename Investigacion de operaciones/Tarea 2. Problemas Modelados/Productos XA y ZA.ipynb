{
 "cells": [
  {
   "cell_type": "code",
   "execution_count": 3,
   "metadata": {},
   "outputs": [
    {
     "name": "stdout",
     "output_type": "stream",
     "text": [
      "Status: 1\n",
      "Beneficio Total: € 28000.0\n",
      "Cantidad óptima de botellas de Producto 1:\n",
      "  - Marca 1: 2000\n",
      "  - Marca 2: 0\n",
      "  - Marca 3: 0\n",
      "Cantidad óptima de botellas de Producto 2:\n",
      "  - Marca 1: 4000\n",
      "  - Marca 2: 0\n",
      "  - Marca 3: 0\n",
      "Cantidad óptima de botellas de Producto 3:\n",
      "  - Marca 1: 1000\n",
      "  - Marca 2: 0\n",
      "  - Marca 3: 0\n"
     ]
    }
   ],
   "source": [
    "from pulp import LpProblem, LpVariable, lpSum, LpMaximize\n",
    "\n",
    "# Crear el problema de maximización\n",
    "prob = LpProblem(\"Maximizar Beneficio\", LpMaximize)\n",
    "\n",
    "# Definir las variables de decisión\n",
    "x11 = LpVariable(\"Botellas_Producto1_Marca1\", lowBound=0, cat='Integer')  \n",
    "x12 = LpVariable(\"Botellas_Producto1_Marca2\", lowBound=0, cat='Integer')  \n",
    "x13 = LpVariable(\"Botellas_Producto1_Marca3\", lowBound=0, cat='Integer')  \n",
    "\n",
    "x21 = LpVariable(\"Botellas_Producto2_Marca1\", lowBound=0, cat='Integer')  \n",
    "x22 = LpVariable(\"Botellas_Producto2_Marca2\", lowBound=0, cat='Integer')  \n",
    "x23 = LpVariable(\"Botellas_Producto2_Marca3\", lowBound=0, cat='Integer')  \n",
    "\n",
    "x31 = LpVariable(\"Botellas_Producto3_Marca1\", lowBound=0, cat='Integer')  \n",
    "x32 = LpVariable(\"Botellas_Producto3_Marca2\", lowBound=0, cat='Integer')  \n",
    "x33 = LpVariable(\"Botellas_Producto3_Marca3\", lowBound=0, cat='Integer')  \n",
    "\n",
    "# Definir la función objetivo\n",
    "prob += 4 * (x11 + x21 + x31) + 3 * (x12 + x22 + x32) + 2 * (x13 + x23 + x33), \"Beneficio_Total\"\n",
    "\n",
    "# Definir las restricciones\n",
    "prob += x11 + x12 + x13 <= 2000, \"Disponibilidad_Marca1\"\n",
    "prob += x21 + x22 + x23 <= 4000, \"Disponibilidad_Marca2\"\n",
    "prob += x31 + x32 + x33 <= 1000, \"Disponibilidad_Marca3\"\n",
    "\n",
    "prob += 0.8 * (x11 + x21 + x31) >= x11, \"Porcentaje_Producto1_Marca1\"\n",
    "prob += 0.2 * (x11 + x21 + x31) <= x11, \"Porcentaje_Producto1_Marca3\"\n",
    "prob += 0.2 * (x12 + x22 + x32) <= x12, \"Porcentaje_Producto2_Marca3\"\n",
    "prob += 0.8 * (x13 + x23 + x33) >= x13, \"Porcentaje_Producto3_Marca3\"\n",
    "\n",
    "# Resolver el problema\n",
    "prob.solve()\n",
    "\n",
    "# Imprimir los resultados\n",
    "print(\"Status:\", prob.status)\n",
    "print(\"Beneficio Total: €\", round(prob.objective.value(), 2))\n",
    "print(\"Cantidad óptima de botellas de Producto 1:\")\n",
    "print(\"  - Marca 1:\", int(x11.value()))\n",
    "print(\"  - Marca 2:\", int(x12.value()))\n",
    "print(\"  - Marca 3:\", int(x13.value()))\n",
    "print(\"Cantidad óptima de botellas de Producto 2:\")\n",
    "print(\"  - Marca 1:\", int(x21.value()))\n",
    "print(\"  - Marca 2:\", int(x22.value()))\n",
    "print(\"  - Marca 3:\", int(x23.value()))\n",
    "print(\"Cantidad óptima de botellas de Producto 3:\")\n",
    "print(\"  - Marca 1:\", int(x31.value()))\n",
    "print(\"  - Marca 2:\", int(x32.value()))\n",
    "print(\"  - Marca 3:\", int(x33.value()))\n"
   ]
  }
 ],
 "metadata": {
  "kernelspec": {
   "display_name": "Python 3",
   "language": "python",
   "name": "python3"
  },
  "language_info": {
   "codemirror_mode": {
    "name": "ipython",
    "version": 3
   },
   "file_extension": ".py",
   "mimetype": "text/x-python",
   "name": "python",
   "nbconvert_exporter": "python",
   "pygments_lexer": "ipython3",
   "version": "3.11.1"
  }
 },
 "nbformat": 4,
 "nbformat_minor": 2
}
