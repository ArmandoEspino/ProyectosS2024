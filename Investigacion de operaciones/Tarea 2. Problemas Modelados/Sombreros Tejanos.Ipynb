{
 "cells": [
  {
   "cell_type": "code",
   "execution_count": 3,
   "metadata": {},
   "outputs": [
    {
     "name": "stdout",
     "output_type": "stream",
     "text": [
      "Valor óptimo de la utilidad: 1800.0\n",
      "Cantidad de sombreros tipo 1: 100.0\n",
      "Cantidad de sombreros tipo 2: 200.0\n"
     ]
    }
   ],
   "source": [
    "from scipy.optimize import linprog\n",
    "\n",
    "# Coeficientes de la función objetivo (negativos porque linprog minimiza por defecto)\n",
    "c = [-8, -5]\n",
    "\n",
    "# Coeficientes de las restricciones (lado izquierdo de las desigualdades)\n",
    "A = [[2, 1], [1, 0], [0, 1]]\n",
    "# Lados derechos de las restricciones\n",
    "b = [400, 150, 200]\n",
    "\n",
    "# Definimos los límites de las variables (x1, x2 >= 0)\n",
    "x0_bounds = (0, None)\n",
    "x1_bounds = (0, None)\n",
    "\n",
    "# Resolvemos el problema\n",
    "res = linprog(c, A_ub=A, b_ub=b, bounds=[x0_bounds, x1_bounds])\n",
    "\n",
    "# Imprimimos los resultados\n",
    "print('Valor óptimo de la utilidad:', -res.fun)  # La función objetivo está siendo maximizada, por eso multiplicamos por -1\n",
    "print('Cantidad de sombreros tipo 1:', res.x[0])\n",
    "print('Cantidad de sombreros tipo 2:', res.x[1])\n"
   ]
  }
 ],
 "metadata": {
  "kernelspec": {
   "display_name": "Python 3",
   "language": "python",
   "name": "python3"
  },
  "language_info": {
   "codemirror_mode": {
    "name": "ipython",
    "version": 3
   },
   "file_extension": ".py",
   "mimetype": "text/x-python",
   "name": "python",
   "nbconvert_exporter": "python",
   "pygments_lexer": "ipython3",
   "version": "3.11.1"
  }
 },
 "nbformat": 4,
 "nbformat_minor": 2
}
