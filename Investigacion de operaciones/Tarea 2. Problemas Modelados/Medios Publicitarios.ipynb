{
 "cells": [
  {
   "cell_type": "code",
   "execution_count": null,
   "metadata": {},
   "outputs": [],
   "source": [
    "from pulp import LpProblem, LpVariable, lpSum, LpMaximize\n",
    "\n",
    "# Creamos el problema de maximización\n",
    "prob = LpProblem(\"Maximizar Efectividad\", LpMaximize)\n",
    "\n",
    "# Definimos las variables de decisión\n",
    "x1 = LpVariable(\"Anuncios_Canal1\", lowBound=26, cat='Integer')  # Al menos 26 anuncios en el canal 1\n",
    "x2 = LpVariable(\"Anuncios_Canal2\", lowBound=13, cat='Integer')  # Al menos 13 anuncios en el canal 2\n",
    "\n",
    "# Función objetivo (efectividad total)\n",
    "prob += 0.30*x1 + 0.70*x2, \"Efectividad_Total\"\n",
    "\n",
    "# Restricciones\n",
    "prob += 15000*x1 + 30000*x2 <= 1000000, \"Presupuesto\"\n",
    "# Restricciones de mínimo de anuncios en cada canal ya definidas al crear las variables\n",
    "\n",
    "# Resolvemos el problema\n",
    "prob.solve()\n",
    "\n",
    "# Imprimimos los resultados\n",
    "print(\"Status:\", prob.status)\n",
    "print(\"(Tomando en cuenta la efectividad antes que la cantidad de anuncios)\")\n",
    "print(\"Número óptimo de anuncios en el primer canal:\", int(x1.value()))\n",
    "print(\"Número óptimo de anuncios en el segundo canal:\", int(x2.value()))\n"
   ]
  },
  {
   "cell_type": "code",
   "execution_count": null,
   "metadata": {},
   "outputs": [],
   "source": [
    "from pulp import LpProblem, LpVariable, lpSum, LpMaximize\n",
    "\n",
    "# Creamos el problema de maximización\n",
    "prob = LpProblem(\"Maximizar Anuncios\", LpMaximize)\n",
    "\n",
    "# Definimos las variables de decisión\n",
    "x1 = LpVariable(\"Anuncios_Canal1\", lowBound=26, cat='Integer')  # Al menos 26 anuncios en el canal 1\n",
    "x2 = LpVariable(\"Anuncios_Canal2\", lowBound=13, cat='Integer')  # Al menos 13 anuncios en el canal 2\n",
    "\n",
    "# Función objetivo\n",
    "prob += x1 + x2, \"Total_Anuncios\"\n",
    "\n",
    "# Restricciones\n",
    "prob += 15000*x1 + 30000*x2 <= 1000000, \"Presupuesto\"\n",
    "# Restricciones de mínimo de anuncios en cada canal ya definidas al crear las variables\n",
    "\n",
    "# Resolvemos el problema\n",
    "prob.solve()\n",
    "\n",
    "# Imprimimos los resultados\n",
    "print(\"Status:\", prob.status)\n",
    "print(\"(Tomando en cuenta sacar la mayor cantidad de anuncios)\")\n",
    "print(\"Número óptimo de anuncios en el primer canal:\", int(x1.value()))\n",
    "print(\"Número óptimo de anuncios en el segundo canal:\", int(x2.value()))\n"
   ]
  }
 ],
 "metadata": {
  "kernelspec": {
   "display_name": "Python 3",
   "language": "python",
   "name": "python3"
  },
  "language_info": {
   "codemirror_mode": {
    "name": "ipython",
    "version": 3
   },
   "file_extension": ".py",
   "mimetype": "text/x-python",
   "name": "python",
   "nbconvert_exporter": "python",
   "pygments_lexer": "ipython3",
   "version": "3.11.1"
  }
 },
 "nbformat": 4,
 "nbformat_minor": 2
}
