{
 "cells": [
  {
   "cell_type": "code",
   "execution_count": 1,
   "metadata": {},
   "outputs": [
    {
     "name": "stdout",
     "output_type": "stream",
     "text": [
      "Valor óptimo del beneficio total: 840.0\n",
      "Número óptimo de unidades a fabricar del producto 1: 20\n",
      "Número óptimo de unidades a fabricar del producto 2: 0\n",
      "Número óptimo de unidades a fabricar del producto 3: 40\n"
     ]
    }
   ],
   "source": [
    "from scipy.optimize import linprog\n",
    "\n",
    "# Coeficientes de la función objetivo\n",
    "c = [-12, -10, -15]\n",
    "\n",
    "# Coeficientes de las restricciones (lado izquierdo de las desigualdades)\n",
    "A = [[3, 2, 1], [2, 3, 4]]\n",
    "# Lados derechos de las restricciones\n",
    "b = [100, 200]\n",
    "\n",
    "# Definimos los límites de las variables (x1, x2, x3 >= 0)\n",
    "x0_bounds = (0, None)\n",
    "x1_bounds = (0, None)\n",
    "x2_bounds = (0, None)\n",
    "\n",
    "# Resolvemos el problema\n",
    "res = linprog(c, A_ub=A, b_ub=b, bounds=[x0_bounds, x1_bounds, x2_bounds])\n",
    "\n",
    "# Imprimimos los resultados\n",
    "print('Valor óptimo del beneficio total:', -res.fun)  # La función objetivo está siendo maximizada, por eso multiplicamos por -1\n",
    "print('Número óptimo de unidades a fabricar del producto 1:', int(res.x[0]))\n",
    "print('Número óptimo de unidades a fabricar del producto 2:', int(res.x[1]))\n",
    "print('Número óptimo de unidades a fabricar del producto 3:', int(res.x[2]))\n"
   ]
  }
 ],
 "metadata": {
  "kernelspec": {
   "display_name": "Python 3",
   "language": "python",
   "name": "python3"
  },
  "language_info": {
   "codemirror_mode": {
    "name": "ipython",
    "version": 3
   },
   "file_extension": ".py",
   "mimetype": "text/x-python",
   "name": "python",
   "nbconvert_exporter": "python",
   "pygments_lexer": "ipython3",
   "version": "3.11.1"
  }
 },
 "nbformat": 4,
 "nbformat_minor": 2
}
