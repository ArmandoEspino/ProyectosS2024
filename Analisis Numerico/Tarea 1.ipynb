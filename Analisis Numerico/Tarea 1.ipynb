{
 "cells": [
  {
   "cell_type": "code",
   "execution_count": null,
   "metadata": {},
   "outputs": [],
   "source": [
    "#   Instalacion de Pyomo\n",
    "\n",
    "!pip3 install pyomo"
   ]
  },
  {
   "cell_type": "code",
   "execution_count": 4,
   "metadata": {},
   "outputs": [
    {
     "name": "stdout",
     "output_type": "stream",
     "text": [
      "Las soluciones son: [21.0, -16.0, -3.0]\n"
     ]
    }
   ],
   "source": [
    "def gauss_elimination(matrix):\n",
    "    n = len(matrix)\n",
    "\n",
    "    for i in range(n):\n",
    "        # Hacer la columna i en la matriz triangular\n",
    "        for j in range(i+1, n):\n",
    "            factor = matrix[j][i] / matrix[i][i]\n",
    "            for k in range(i, n+1):\n",
    "                matrix[j][k] -= factor * matrix[i][k]\n",
    "\n",
    "    # Resolver el sistema triangular superior\n",
    "    solutions = [0] * n\n",
    "    for i in range(n-1, -1, -1):\n",
    "        solutions[i] = matrix[i][n] / matrix[i][i]\n",
    "        for j in range(i-1, -1, -1):\n",
    "            matrix[j][n] -= matrix[j][i] * solutions[i]\n",
    "\n",
    "    return solutions\n",
    "\n",
    "# Ejemplo de uso\n",
    "matrix = [\n",
    "    [1, 1, -1, 8],\n",
    "    [0, -1, 2, 10],\n",
    "    [0, 0, 1, -3]\n",
    "]\n",
    "\n",
    "solutions = gauss_elimination(matrix)\n",
    "print(\"Las soluciones son:\", solutions)\n"
   ]
  },
  {
   "cell_type": "code",
   "execution_count": null,
   "metadata": {},
   "outputs": [],
   "source": [
    "def gauss_elimination(matrix):\n",
    "    n = len(matrix)             # Obtiene el tamaño de la matriz (número de filas)\n",
    "    \n",
    "    # Imprime la matriz inicial\n",
    "    print(\"Matriz inicial:\")\n",
    "    print_matrix(matrix)\n",
    "\n",
    "    # Aplica el método de eliminación de Gauss\n",
    "    for i in range(n):\n",
    "        # Hacer la columna i en la matriz triangular\n",
    "        for j in range(i+1, n):\n",
    "            # Calcula el factor de eliminación\n",
    "            factor = matrix[j][i] / matrix[i][i]\n",
    "            # Actualiza los elementos de la fila j\n",
    "            for k in range(i, n+1):\n",
    "                matrix[j][k] -= factor * matrix[i][k]\n",
    "        # Imprime la matriz en cada iteración\n",
    "        print(f\"Iteración {i+1}:\")\n",
    "        print_matrix(matrix)\n",
    "    # Resolver el sistema triangular superior\n",
    "    solutions = [0] * n\n",
    "    for i in range(n-1, -1, -1):\n",
    "        solutions[i] = matrix[i][n] / matrix[i][i]\n",
    "        for j in range(i-1, -1, -1):\n",
    "            matrix[j][n] -= matrix[j][i] * solutions[i]\n",
    "    return solutions\n",
    "\n",
    "def print_matrix(matrix):\n",
    "    for row in matrix:\n",
    "        print(row)\n",
    "    print()\n",
    "\n",
    "# Ejemplo de uso\n",
    "matrix = [\n",
    "    [4, 1, 1, 8],\n",
    "    [1, 1, 2, 3],\n",
    "    [2, 2, 1, 3]\n",
    "]\n",
    "\n",
    "# Llama a la función gauss_elimination con la matriz de entrada\n",
    "solutions = gauss_elimination(matrix)\n",
    "\n",
    "# Imprime las soluciones encontradas\n",
    "print(\"Las soluciones son:\", solutions)"
   ]
  },
  {
   "cell_type": "code",
   "execution_count": 1,
   "metadata": {},
   "outputs": [
    {
     "name": "stdout",
     "output_type": "stream",
     "text": [
      "El valor máximo que se puede obtener es: 45\n"
     ]
    }
   ],
   "source": [
    "def mochila(capacidad, pesos, valores, n):\n",
    "    # Crear una matriz de tamaño (n+1) x (capacidad+1)\n",
    "    matriz = [[0] * (capacidad + 1) for _ in range(n + 1)]\n",
    "    \n",
    "    # Calcular la solución óptima para cada subproblema\n",
    "    for i in range(1, n + 1):\n",
    "        for w in range(1, capacidad + 1):\n",
    "            if pesos[i - 1] <= w:\n",
    "                matriz[i][w] = max(valores[i - 1] + matriz[i - 1][w - pesos[i - 1]], matriz[i - 1][w])\n",
    "            else:\n",
    "                matriz[i][w] = matriz[i - 1][w]\n",
    "    \n",
    "    # Devolver el valor máximo que se puede obtener\n",
    "    return matriz[n][capacidad]\n",
    "\n",
    "# Ejemplo de objetos: peso y valor\n",
    "pesos = [2, 3, 5]\n",
    "valores = [10, 15, 30]\n",
    "capacidad_mochila = 8\n",
    "\n",
    "# Calcular la solución\n",
    "max_valor = mochila(capacidad_mochila, pesos, valores, len(pesos))\n",
    "\n",
    "print(\"El valor máximo que se puede obtener es:\", max_valor)\n"
   ]
  },
  {
   "cell_type": "code",
   "execution_count": null,
   "metadata": {},
   "outputs": [],
   "source": [
    "# Declaración de variables\n",
    "var s >= 0;  # Cantidad de sillas\n",
    "var m >= 0;  # Cantidad de mesas\n",
    "\n",
    "# Función objetivo: Maximizar los ingresos totales\n",
    "maximize ingresos_total: 50*s + 100*m;\n",
    "\n",
    "# Restricciones\n",
    "subject to restriccion_madera: 2*s + 4*m <= 100;   # Restricción de madera\n",
    "subject to restriccion_mano_de_obra: 3*s + 6*m <= 120;  # Restricción de mano de obra\n",
    "subject to relacion_sillas_mesas: m = s;   # Relación entre sillas y mesas\n",
    "\n",
    "# Nueva restricción: producción para un mes\n",
    "subject to restriccion_mes: s + m <= 30;  # Producción total en un mes\n"
   ]
  }
 ],
 "metadata": {
  "kernelspec": {
   "display_name": "Python 3",
   "language": "python",
   "name": "python3"
  },
  "language_info": {
   "codemirror_mode": {
    "name": "ipython",
    "version": 3
   },
   "file_extension": ".py",
   "mimetype": "text/x-python",
   "name": "python",
   "nbconvert_exporter": "python",
   "pygments_lexer": "ipython3",
   "version": "3.11.1"
  }
 },
 "nbformat": 4,
 "nbformat_minor": 2
}
